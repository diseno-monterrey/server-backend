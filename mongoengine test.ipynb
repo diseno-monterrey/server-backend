{
 "cells": [
  {
   "cell_type": "code",
   "execution_count": 30,
   "metadata": {},
   "outputs": [
    {
     "data": {
      "text/plain": [
       "MongoClient(host=['localhost:27017'], document_class=dict, tz_aware=False, connect=True, read_preference=Primary())"
      ]
     },
     "execution_count": 30,
     "metadata": {},
     "output_type": "execute_result"
    }
   ],
   "source": [
    "from mongoengine import *\n",
    "import datetime\n",
    "connect('people')"
   ]
  },
  {
   "cell_type": "markdown",
   "metadata": {},
   "source": [
    "# Definición de Clases\n"
   ]
  },
  {
   "cell_type": "code",
   "execution_count": 27,
   "metadata": {},
   "outputs": [],
   "source": [
    "class _AUTHOR(Document):\n",
    "    email       = StringField()\n",
    "    displayName = StringField()\n",
    "    editList    = ListField(EmbeddedDocumentField(_EDIT))\n",
    "    "
   ]
  },
  {
   "cell_type": "code",
   "execution_count": 44,
   "metadata": {},
   "outputs": [],
   "source": [
    "    \n",
    "class Person(Document):\n",
    "    _entryAuthor = ReferenceField(_AUTHOR)\n",
    "    _dateCreated = datetime.datetime.utcnow()\n",
    "    firstName    = StringField()\n",
    "    lastName     = StringField()\n",
    "    image        = StringField()\n",
    "    # workedIn     = ListField(ReferenceField(Studio))\n",
    "    # studiedIn    = ListField(ReferenceField(School))\n",
    "\n",
    "class _EDIT(EmbeddedDocument):\n",
    "    tags         = ListField(StringField(max_lenght=30))\n",
    "    _entryAuthor = ReferenceField(_AUTHOR)\n",
    "    editQuery    = StringField()\n",
    "    _date        = datetime.datetime.utcnow()\n"
   ]
  },
  {
   "cell_type": "code",
   "execution_count": 39,
   "metadata": {},
   "outputs": [],
   "source": [
    "user1 = _AUTHOR(\n",
    "    email ='edgar@enmienda.co',\n",
    "    displayName = 'Edgar Robles',\n",
    ").save()\n",
    "\n",
    "user2 = _AUTHOR(\n",
    "    email ='frida@gmail.com',\n",
    "    displayName = 'Frida Medrano',\n",
    ").save()"
   ]
  },
  {
   "cell_type": "code",
   "execution_count": 46,
   "metadata": {},
   "outputs": [],
   "source": [
    "person1 = Person(\n",
    "    _entryAuthor = user1,\n",
    "    firstName    = 'Rick',\n",
    "    lastName     = 'Bracho',\n",
    ").save()\n",
    "\n",
    "person2 = Person(\n",
    "    _entryAuthor = user2,\n",
    "    firstName = 'Jorge',\n",
    "    lastName = 'Camacho'\n",
    ").save()"
   ]
  },
  {
   "cell_type": "code",
   "execution_count": 53,
   "metadata": {},
   "outputs": [
    {
     "name": "stdout",
     "output_type": "stream",
     "text": [
      "5d25998582373e1e26a0ac08\n",
      "5d25998582373e1e26a0ac09\n",
      "5d2599a982373e1e26a0ac0a\n",
      "5d2599a982373e1e26a0ac0b\n",
      "5d2599b882373e1e26a0ac0c\n",
      "5d2599b882373e1e26a0ac0d\n"
     ]
    }
   ],
   "source": [
    "for post in Person.objects:\n",
    "    print(post.id)"
   ]
  },
  {
   "cell_type": "code",
   "execution_count": null,
   "metadata": {},
   "outputs": [],
   "source": []
  }
 ],
 "metadata": {
  "kernelspec": {
   "display_name": "Python 3",
   "language": "python",
   "name": "python3"
  },
  "language_info": {
   "codemirror_mode": {
    "name": "ipython",
    "version": 3
   },
   "file_extension": ".py",
   "mimetype": "text/x-python",
   "name": "python",
   "nbconvert_exporter": "python",
   "pygments_lexer": "ipython3",
   "version": "3.7.3"
  }
 },
 "nbformat": 4,
 "nbformat_minor": 2
}
