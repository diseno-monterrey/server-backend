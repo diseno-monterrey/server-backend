{
 "cells": [
  {
   "cell_type": "code",
   "execution_count": 3,
   "metadata": {},
   "outputs": [
    {
     "data": {
      "text/plain": [
       "MongoClient(host=['localhost:27017'], document_class=dict, tz_aware=False, connect=True, read_preference=Primary())"
      ]
     },
     "execution_count": 3,
     "metadata": {},
     "output_type": "execute_result"
    }
   ],
   "source": [
    "from mongoengine import Document\n",
    "import datetime\n",
    "connect('people')"
   ]
  },
  {
   "cell_type": "markdown",
   "metadata": {},
   "source": [
    "# Definición de Clases\n"
   ]
  },
  {
   "cell_type": "code",
   "execution_count": 8,
   "metadata": {},
   "outputs": [],
   "source": [
    "class _AUTHOR(Document):\n",
    "    email       = StringField()\n",
    "    displayName = StringField(required = true)\n",
    "    password    = StringField()"
   ]
  },
  {
   "cell_type": "code",
   "execution_count": 17,
   "metadata": {},
   "outputs": [],
   "source": [
    "    \n",
    "class Person(Document):\n",
    "    _entryAuthor = ReferenceField(_AUTHOR)\n",
    "    _dateCreated = DateTimeField(datetime.datetime.utcnow())\n",
    "    firstName    = StringField()\n",
    "    lastName     = StringField()\n",
    "    image        = StringField()\n",
    "    # workedIn     = ListField(ReferenceField(Studio))\n",
    "    # studiedIn    = ListField(ReferenceField(School))\n",
    "\n",
    "class _EDIT(EmbeddedDocument):\n",
    "    tags         = ListField(StringField(max_lenght=30))\n",
    "    editQuery    = StringField()\n",
    "    _date        = datetime.datetime.utcnow()\n",
    "\n",
    "class proyecto(Document):\n",
    "    title = StringField\n"
   ]
  },
  {
   "cell_type": "code",
   "execution_count": 13,
   "metadata": {},
   "outputs": [],
   "source": [
    "user1 = _AUTHOR(\n",
    "    email ='edgar@enmienda.co',\n",
    "    displayName = 'Edgar Robles',\n",
    ").save()\n",
    "\n",
    "user2 = _AUTHOR(\n",
    "    email ='frida@gmail.com',\n",
    "    displayName = 'Frida Medrano',\n",
    ").save()"
   ]
  },
  {
   "cell_type": "code",
   "execution_count": 27,
   "metadata": {},
   "outputs": [
    {
     "ename": "NameError",
     "evalue": "name 'true' is not defined",
     "output_type": "error",
     "traceback": [
      "\u001b[0;31m---------------------------------------------------------------------------\u001b[0m",
      "\u001b[0;31mNameError\u001b[0m                                 Traceback (most recent call last)",
      "\u001b[0;32m<ipython-input-27-e1074be10d86>\u001b[0m in \u001b[0;36m<module>\u001b[0;34m\u001b[0m\n\u001b[1;32m      2\u001b[0m     \u001b[0mfirstName\u001b[0m    \u001b[0;34m=\u001b[0m \u001b[0;34m'Rick'\u001b[0m\u001b[0;34m,\u001b[0m\u001b[0;34m\u001b[0m\u001b[0;34m\u001b[0m\u001b[0m\n\u001b[1;32m      3\u001b[0m     \u001b[0mlastName\u001b[0m     \u001b[0;34m=\u001b[0m \u001b[0;34m'Bracho'\u001b[0m\u001b[0;34m,\u001b[0m\u001b[0;34m\u001b[0m\u001b[0;34m\u001b[0m\u001b[0m\n\u001b[0;32m----> 4\u001b[0;31m     ).save(cascade = true)\n\u001b[0m\u001b[1;32m      5\u001b[0m \u001b[0;34m\u001b[0m\u001b[0m\n\u001b[1;32m      6\u001b[0m person2 = Person(\n",
      "\u001b[0;31mNameError\u001b[0m: name 'true' is not defined"
     ]
    }
   ],
   "source": [
    "person1 = Person(\n",
    "    firstName    = 'Rick',\n",
    "    lastName     = 'Bracho',\n",
    "    ).save(cascade = true)\n",
    "\n",
    "person2 = Person(\n",
    "    firstName = 'Jorge',\n",
    "    lastName = 'Camacho'\n",
    ").save(cascade=true)"
   ]
  },
  {
   "cell_type": "code",
   "execution_count": 24,
   "metadata": {},
   "outputs": [
    {
     "ename": "AttributeError",
     "evalue": "type object 'Person' has no attribute 'objects'",
     "output_type": "error",
     "traceback": [
      "\u001b[0;31m---------------------------------------------------------------------------\u001b[0m",
      "\u001b[0;31mAttributeError\u001b[0m                            Traceback (most recent call last)",
      "\u001b[0;32m<ipython-input-24-1e12c836e210>\u001b[0m in \u001b[0;36m<module>\u001b[0;34m\u001b[0m\n\u001b[0;32m----> 1\u001b[0;31m \u001b[0;32mfor\u001b[0m \u001b[0mpost\u001b[0m \u001b[0;32min\u001b[0m \u001b[0mPerson\u001b[0m\u001b[0;34m.\u001b[0m\u001b[0mobjects\u001b[0m\u001b[0;34m:\u001b[0m\u001b[0;34m\u001b[0m\u001b[0;34m\u001b[0m\u001b[0m\n\u001b[0m\u001b[1;32m      2\u001b[0m     \u001b[0mprint\u001b[0m\u001b[0;34m(\u001b[0m\u001b[0mpost\u001b[0m\u001b[0;34m.\u001b[0m\u001b[0mid\u001b[0m\u001b[0;34m)\u001b[0m\u001b[0;34m\u001b[0m\u001b[0;34m\u001b[0m\u001b[0m\n\u001b[1;32m      3\u001b[0m     \u001b[0;31m# del(Person.objects)\u001b[0m\u001b[0;34m\u001b[0m\u001b[0;34m\u001b[0m\u001b[0;34m\u001b[0m\u001b[0m\n",
      "\u001b[0;31mAttributeError\u001b[0m: type object 'Person' has no attribute 'objects'"
     ]
    }
   ],
   "source": [
    "for post in Person.objects:\n",
    "    print(post.id)\n",
    "    # del(Person.objects)"
   ]
  },
  {
   "cell_type": "code",
   "execution_count": null,
   "metadata": {},
   "outputs": [],
   "source": []
  }
 ],
 "metadata": {
  "kernelspec": {
   "display_name": "Python 3",
   "language": "python",
   "name": "python3"
  },
  "language_info": {
   "codemirror_mode": {
    "name": "ipython",
    "version": 3
   },
   "file_extension": ".py",
   "mimetype": "text/x-python",
   "name": "python",
   "nbconvert_exporter": "python",
   "pygments_lexer": "ipython3",
   "version": "3.7.3"
  }
 },
 "nbformat": 4,
 "nbformat_minor": 2
}
