{
 "cells": [
  {
   "cell_type": "code",
   "execution_count": 2,
   "metadata": {},
   "outputs": [
    {
     "name": "stdout",
     "output_type": "stream",
     "text": [
      "Collection(Database(MongoClient(host=['localhost:27017'], document_class=dict, tz_aware=False, connect=True), 'test_database'), 'people')\n"
     ]
    }
   ],
   "source": [
    "from pymongo import MongoClient\n",
    "import datetime\n",
    "#setup collection\n",
    "client = MongoClient('mongodb://localhost:27017/')\n",
    "db = client.test_database\n",
    "people = db.people\n",
    "\n",
    "print(people)"
   ]
  },
  {
   "cell_type": "code",
   "execution_count": 4,
   "metadata": {},
   "outputs": [
    {
     "name": "stdout",
     "output_type": "stream",
     "text": [
      "5d2578ec28935e238eeedf5a\n"
     ]
    }
   ],
   "source": [
    "#create a person inside people table\n",
    "person = {\"entryAuthor\" : \"edgar@enmienda.co\",\n",
    "          \"dateCreated\": datetime.datetime.utcnow(),\n",
    "          \"firstName\": \"Rick\",\n",
    "          \"lastName\": \"Bracho\",\n",
    "          \"nickname\": \"\",\n",
    "          \"workedIn\": [],\n",
    "          \"studiedIn\": []\n",
    "         }\n",
    "post_id = people.insert_one(person).inserted_id\n",
    "print(post_id)"
   ]
  },
  {
   "cell_type": "code",
   "execution_count": 7,
   "metadata": {},
   "outputs": [
    {
     "name": "stdout",
     "output_type": "stream",
     "text": [
      "{'_id': ObjectId('5d2578ec28935e238eeedf5a'), 'entryAuthor': 'edgar@enmienda.co', 'dateCreated': datetime.datetime(2019, 7, 10, 5, 34, 36, 536000), 'firstName': 'Rick', 'lastName': 'Bracho', 'workedIn': [], 'studiedIn': []}\n"
     ]
    }
   ],
   "source": [
    "#find a person using objectId() reference\n",
    "print(people.find_one({\"_id\": post_id}))"
   ]
  },
  {
   "cell_type": "code",
   "execution_count": 8,
   "metadata": {},
   "outputs": [
    {
     "name": "stdout",
     "output_type": "stream",
     "text": [
      "{'_id': ObjectId('5d2578ec28935e238eeedf5a'), 'entryAuthor': 'edgar@enmienda.co', 'dateCreated': datetime.datetime(2019, 7, 10, 5, 34, 36, 536000), 'firstName': 'Rick', 'lastName': 'Bracho', 'workedIn': [], 'studiedIn': []}\n"
     ]
    }
   ],
   "source": [
    "cursor = people.find({})\n",
    "for document in cursor:\n",
    "    print(document)"
   ]
  },
  {
   "cell_type": "code",
   "execution_count": null,
   "metadata": {},
   "outputs": [],
   "source": []
  }
 ],
 "metadata": {
  "kernelspec": {
   "display_name": "Python 3",
   "language": "python",
   "name": "python3"
  },
  "language_info": {
   "codemirror_mode": {
    "name": "ipython",
    "version": 3
   },
   "file_extension": ".py",
   "mimetype": "text/x-python",
   "name": "python",
   "nbconvert_exporter": "python",
   "pygments_lexer": "ipython3",
   "version": "3.7.3"
  }
 },
 "nbformat": 4,
 "nbformat_minor": 2
}
