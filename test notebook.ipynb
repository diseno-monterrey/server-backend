{
 "cells": [
  {
   "cell_type": "code",
   "execution_count": 10,
   "metadata": {},
   "outputs": [
    {
     "name": "stdout",
     "output_type": "stream",
     "text": [
      "Collection(Database(MongoClient(host=['localhost:27017'], document_class=dict, tz_aware=False, connect=True), 'test_database'), 'test_collection')\n"
     ]
    }
   ],
   "source": [
    "from pymongo import MongoClient\n",
    "import datetime\n",
    "#setup collection\n",
    "client = MongoClient('mongodb://localhost:27017/')\n",
    "db = client.test_database\n",
    "collection = db.test_collection\n",
    "\n",
    "print(collection)"
   ]
  },
  {
   "cell_type": "code",
   "execution_count": 13,
   "metadata": {},
   "outputs": [
    {
     "name": "stdout",
     "output_type": "stream",
     "text": [
      "5d255e4b5c2091da690d4dfa\n"
     ]
    }
   ],
   "source": [
    "post = {\"author\" : \"Mike\",\n",
    "        \"text\": \"My first blog post!\",\n",
    "        \"tags\": [\"tag1\", \"tag2\", \"tag3\"],\n",
    "        \"date\": datetime.datetime.utcnow()}\n",
    "posts = db.posts\n",
    "post_id = posts.insert_one(post).inserted_id\n",
    "print(post_id)"
   ]
  },
  {
   "cell_type": "code",
   "execution_count": 17,
   "metadata": {},
   "outputs": [
    {
     "name": "stdout",
     "output_type": "stream",
     "text": [
      "{'_id': ObjectId('5d255e4b5c2091da690d4dfa'), 'author': 'Mike', 'text': 'My first blog post!', 'tags': ['tag1', 'tag2', 'tag3'], 'date': datetime.datetime(2019, 7, 10, 3, 40, 59, 843000)}\n"
     ]
    }
   ],
   "source": [
    "print(posts.find_one({\"_id\": post_id}))"
   ]
  },
  {
   "cell_type": "code",
   "execution_count": 21,
   "metadata": {},
   "outputs": [
    {
     "name": "stdout",
     "output_type": "stream",
     "text": [
      "{'_id': ObjectId('5d255da85c2091da690d4df9'), 'author': 'Mike', 'text': 'My first blog post!', 'tags': ['tag1', 'tag2', 'tag3'], 'date': datetime.datetime(2019, 7, 10, 3, 38, 16, 280000)}\n",
      "{'_id': ObjectId('5d255e4b5c2091da690d4dfa'), 'author': 'Mike', 'text': 'My first blog post!', 'tags': ['tag1', 'tag2', 'tag3'], 'date': datetime.datetime(2019, 7, 10, 3, 40, 59, 843000)}\n"
     ]
    }
   ],
   "source": [
    "cursor = posts.find({})\n",
    "for document in cursor:\n",
    "    print(document)"
   ]
  },
  {
   "cell_type": "code",
   "execution_count": null,
   "metadata": {},
   "outputs": [],
   "source": []
  }
 ],
 "metadata": {
  "kernelspec": {
   "display_name": "Python 3",
   "language": "python",
   "name": "python3"
  },
  "language_info": {
   "codemirror_mode": {
    "name": "ipython",
    "version": 3
   },
   "file_extension": ".py",
   "mimetype": "text/x-python",
   "name": "python",
   "nbconvert_exporter": "python",
   "pygments_lexer": "ipython3",
   "version": "3.7.3"
  }
 },
 "nbformat": 4,
 "nbformat_minor": 2
}
