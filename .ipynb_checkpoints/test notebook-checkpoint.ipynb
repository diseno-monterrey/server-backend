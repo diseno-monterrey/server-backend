{
 "cells": [
  {
   "cell_type": "code",
   "execution_count": 2,
   "metadata": {},
   "outputs": [
    {
     "name": "stdout",
     "output_type": "stream",
     "text": [
      "Collection(Database(MongoClient(host=['localhost:27017'], document_class=dict, tz_aware=False, connect=True), 'test_database'), 'people')\n"
     ]
    }
   ],
   "source": [
    "from pymongo import MongoClient\n",
    "import datetime\n",
    "#setup collection\n",
    "client = MongoClient('mongodb://localhost:27017/')\n",
    "db = client.test_database\n",
    "people = db.people\n",
    "\n",
    "print(people)"
   ]
  },
  {
   "cell_type": "code",
   "execution_count": 3,
   "metadata": {},
   "outputs": [
    {
     "ename": "NameError",
     "evalue": "name 'post' is not defined",
     "output_type": "error",
     "traceback": [
      "\u001b[0;31m---------------------------------------------------------------------------\u001b[0m",
      "\u001b[0;31mNameError\u001b[0m                                 Traceback (most recent call last)",
      "\u001b[0;32m<ipython-input-3-daca9eb219d9>\u001b[0m in \u001b[0;36m<module>\u001b[0;34m\u001b[0m\n\u001b[1;32m      6\u001b[0m           \u001b[0;34m\"studiedIn\"\u001b[0m\u001b[0;34m:\u001b[0m \u001b[0;34m[\u001b[0m\u001b[0;34m]\u001b[0m\u001b[0;34m\u001b[0m\u001b[0;34m\u001b[0m\u001b[0m\n\u001b[1;32m      7\u001b[0m          }\n\u001b[0;32m----> 8\u001b[0;31m \u001b[0mpost_id\u001b[0m \u001b[0;34m=\u001b[0m \u001b[0mpeople\u001b[0m\u001b[0;34m.\u001b[0m\u001b[0minsert_one\u001b[0m\u001b[0;34m(\u001b[0m\u001b[0mpost\u001b[0m\u001b[0;34m)\u001b[0m\u001b[0;34m.\u001b[0m\u001b[0minserted_id\u001b[0m\u001b[0;34m\u001b[0m\u001b[0;34m\u001b[0m\u001b[0m\n\u001b[0m\u001b[1;32m      9\u001b[0m \u001b[0mprint\u001b[0m\u001b[0;34m(\u001b[0m\u001b[0mpost_id\u001b[0m\u001b[0;34m)\u001b[0m\u001b[0;34m\u001b[0m\u001b[0;34m\u001b[0m\u001b[0m\n",
      "\u001b[0;31mNameError\u001b[0m: name 'post' is not defined"
     ]
    }
   ],
   "source": [
    "#create a person inside people table\n",
    "person = {\"entryAuthor\" : \"edgar@enmienda.co\",\n",
    "          \"dateCreated\": datetime.datetime.utcnow(),\n",
    "          \"firstName\": \"Rick\",\n",
    "          \"lastName\": \"Bracho\",\n",
    "          \"workedIn\": [],\n",
    "          \"studiedIn\": []\n",
    "         }\n",
    "post_id = people.insert_one(person).inserted_id\n",
    "print(post_id)"
   ]
  },
  {
   "cell_type": "code",
   "execution_count": 17,
   "metadata": {},
   "outputs": [
    {
     "name": "stdout",
     "output_type": "stream",
     "text": [
      "{'_id': ObjectId('5d255e4b5c2091da690d4dfa'), 'author': 'Mike', 'text': 'My first blog post!', 'tags': ['tag1', 'tag2', 'tag3'], 'date': datetime.datetime(2019, 7, 10, 3, 40, 59, 843000)}\n"
     ]
    }
   ],
   "source": [
    "print(posts.find_one({\"_id\": post_id}))"
   ]
  },
  {
   "cell_type": "code",
   "execution_count": 21,
   "metadata": {},
   "outputs": [
    {
     "name": "stdout",
     "output_type": "stream",
     "text": [
      "{'_id': ObjectId('5d255da85c2091da690d4df9'), 'author': 'Mike', 'text': 'My first blog post!', 'tags': ['tag1', 'tag2', 'tag3'], 'date': datetime.datetime(2019, 7, 10, 3, 38, 16, 280000)}\n",
      "{'_id': ObjectId('5d255e4b5c2091da690d4dfa'), 'author': 'Mike', 'text': 'My first blog post!', 'tags': ['tag1', 'tag2', 'tag3'], 'date': datetime.datetime(2019, 7, 10, 3, 40, 59, 843000)}\n"
     ]
    }
   ],
   "source": [
    "cursor = posts.find({})\n",
    "for document in cursor:\n",
    "    print(document)"
   ]
  },
  {
   "cell_type": "code",
   "execution_count": null,
   "metadata": {},
   "outputs": [],
   "source": []
  }
 ],
 "metadata": {
  "kernelspec": {
   "display_name": "Python 3",
   "language": "python",
   "name": "python3"
  },
  "language_info": {
   "codemirror_mode": {
    "name": "ipython",
    "version": 3
   },
   "file_extension": ".py",
   "mimetype": "text/x-python",
   "name": "python",
   "nbconvert_exporter": "python",
   "pygments_lexer": "ipython3",
   "version": "3.7.3"
  }
 },
 "nbformat": 4,
 "nbformat_minor": 2
}
