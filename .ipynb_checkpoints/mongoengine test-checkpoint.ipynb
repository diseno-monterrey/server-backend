{
 "cells": [
  {
   "cell_type": "code",
   "execution_count": 3,
   "metadata": {},
   "outputs": [
    {
     "data": {
      "text/plain": [
       "MongoClient(host=['localhost:27017'], document_class=dict, tz_aware=False, connect=True, read_preference=Primary())"
      ]
     },
     "execution_count": 3,
     "metadata": {},
     "output_type": "execute_result"
    }
   ],
   "source": [
    "from mongoengine import *\n",
    "import datetime\n",
    "connect('people')"
   ]
  },
  {
   "cell_type": "markdown",
   "metadata": {},
   "source": [
    "# Definición de Clases\n"
   ]
  },
  {
   "cell_type": "code",
   "execution_count": 8,
   "metadata": {},
   "outputs": [],
   "source": [
    "class _AUTHOR(Document):\n",
    "    email       = StringField()\n",
    "    displayName = StringField(required = true)\n",
    "    password    = StringField()"
   ]
  },
  {
   "cell_type": "code",
   "execution_count": 17,
   "metadata": {},
   "outputs": [],
   "source": [
    "    \n",
    "class Person(Document):\n",
    "    _entryAuthor = ReferenceField(_AUTHOR)\n",
    "    _dateCreated = datetime.datetime.utcnow()\n",
    "    firstName    = StringField()\n",
    "    lastName     = StringField()\n",
    "    image        = StringField()\n",
    "    # workedIn     = ListField(ReferenceField(Studio))\n",
    "    # studiedIn    = ListField(ReferenceField(School))\n",
    "\n",
    "class _EDIT(EmbeddedDocument):\n",
    "    tags         = ListField(StringField(max_lenght=30))\n",
    "    editQuery    = StringField()\n",
    "    _date        = datetime.datetime.utcnow()\n"
   ]
  },
  {
   "cell_type": "code",
   "execution_count": 13,
   "metadata": {},
   "outputs": [],
   "source": [
    "user1 = _AUTHOR(\n",
    "    email ='edgar@enmienda.co',\n",
    "    displayName = 'Edgar Robles',\n",
    ").save()\n",
    "\n",
    "user2 = _AUTHOR(\n",
    "    email ='frida@gmail.com',\n",
    "    displayName = 'Frida Medrano',\n",
    ").save()"
   ]
  },
  {
   "cell_type": "code",
   "execution_count": 15,
   "metadata": {},
   "outputs": [],
   "source": [
    "person1 = Person(\n",
    "    firstName    = 'Rick',\n",
    "    lastName     = 'Bracho',\n",
    "    ).save()\n",
    "\n",
    "person2 = Person(\n",
    "    firstName = 'Jorge',\n",
    "    lastName = 'Camacho'\n",
    ").save()"
   ]
  },
  {
   "cell_type": "code",
   "execution_count": 21,
   "metadata": {},
   "outputs": [],
   "source": [
    "for post in Person.objects:\n",
    "    print(post.id)\n",
    "    # del(Person.objects)"
   ]
  },
  {
   "cell_type": "code",
   "execution_count": null,
   "metadata": {},
   "outputs": [],
   "source": []
  }
 ],
 "metadata": {
  "kernelspec": {
   "display_name": "Python 3",
   "language": "python",
   "name": "python3"
  },
  "language_info": {
   "codemirror_mode": {
    "name": "ipython",
    "version": 3
   },
   "file_extension": ".py",
   "mimetype": "text/x-python",
   "name": "python",
   "nbconvert_exporter": "python",
   "pygments_lexer": "ipython3",
   "version": "3.7.3"
  }
 },
 "nbformat": 4,
 "nbformat_minor": 2
}
