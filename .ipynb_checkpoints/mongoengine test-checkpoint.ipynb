{
 "cells": [
  {
   "cell_type": "code",
   "execution_count": 10,
   "metadata": {},
   "outputs": [
    {
     "data": {
      "text/plain": [
       "MongoClient(host=['localhost:27017'], document_class=dict, tz_aware=False, connect=True, read_preference=Primary())"
      ]
     },
     "execution_count": 10,
     "metadata": {},
     "output_type": "execute_result"
    }
   ],
   "source": [
    "from mongoengine import *\n",
    "import datetime\n",
    "\n",
    "connect('people')"
   ]
  },
  {
   "cell_type": "code",
   "execution_count": 12,
   "metadata": {},
   "outputs": [
    {
     "ename": "NameError",
     "evalue": "name 'Studio' is not defined",
     "output_type": "error",
     "traceback": [
      "\u001b[0;31m---------------------------------------------------------------------------\u001b[0m",
      "\u001b[0;31mNameError\u001b[0m                                 Traceback (most recent call last)",
      "\u001b[0;32m<ipython-input-12-38ed97f6505f>\u001b[0m in \u001b[0;36m<module>\u001b[0;34m\u001b[0m\n\u001b[1;32m     10\u001b[0m     \u001b[0;31m# editList    = ListField(EmbeddedDocumentField(_EDIT))\u001b[0m\u001b[0;34m\u001b[0m\u001b[0;34m\u001b[0m\u001b[0;34m\u001b[0m\u001b[0m\n\u001b[1;32m     11\u001b[0m \u001b[0;34m\u001b[0m\u001b[0m\n\u001b[0;32m---> 12\u001b[0;31m \u001b[0;32mclass\u001b[0m \u001b[0mPerson\u001b[0m\u001b[0;34m(\u001b[0m\u001b[0mDocument\u001b[0m\u001b[0;34m)\u001b[0m\u001b[0;34m:\u001b[0m\u001b[0;34m\u001b[0m\u001b[0;34m\u001b[0m\u001b[0m\n\u001b[0m\u001b[1;32m     13\u001b[0m     \u001b[0m_entryAuthor\u001b[0m \u001b[0;34m=\u001b[0m \u001b[0mReferenceField\u001b[0m\u001b[0;34m(\u001b[0m\u001b[0m_AUTHOR\u001b[0m\u001b[0;34m)\u001b[0m\u001b[0;34m\u001b[0m\u001b[0;34m\u001b[0m\u001b[0m\n\u001b[1;32m     14\u001b[0m     \u001b[0m_dateCreated\u001b[0m \u001b[0;34m=\u001b[0m \u001b[0mStringField\u001b[0m\u001b[0;34m(\u001b[0m\u001b[0;34m)\u001b[0m\u001b[0;34m\u001b[0m\u001b[0;34m\u001b[0m\u001b[0m\n",
      "\u001b[0;32m<ipython-input-12-38ed97f6505f>\u001b[0m in \u001b[0;36mPerson\u001b[0;34m()\u001b[0m\n\u001b[1;32m     16\u001b[0m     \u001b[0mlastName\u001b[0m     \u001b[0;34m=\u001b[0m \u001b[0mStringField\u001b[0m\u001b[0;34m(\u001b[0m\u001b[0;34m)\u001b[0m\u001b[0;34m\u001b[0m\u001b[0;34m\u001b[0m\u001b[0m\n\u001b[1;32m     17\u001b[0m     \u001b[0mimage\u001b[0m        \u001b[0;34m=\u001b[0m \u001b[0mStringField\u001b[0m\u001b[0;34m(\u001b[0m\u001b[0;34m)\u001b[0m\u001b[0;34m\u001b[0m\u001b[0;34m\u001b[0m\u001b[0m\n\u001b[0;32m---> 18\u001b[0;31m     \u001b[0mworkedIn\u001b[0m     \u001b[0;34m=\u001b[0m \u001b[0mListField\u001b[0m\u001b[0;34m(\u001b[0m\u001b[0mReferenceField\u001b[0m\u001b[0;34m(\u001b[0m\u001b[0mStudio\u001b[0m\u001b[0;34m)\u001b[0m\u001b[0;34m)\u001b[0m\u001b[0;34m\u001b[0m\u001b[0;34m\u001b[0m\u001b[0m\n\u001b[0m\u001b[1;32m     19\u001b[0m     \u001b[0mstudiedIn\u001b[0m    \u001b[0;34m=\u001b[0m \u001b[0mListField\u001b[0m\u001b[0;34m(\u001b[0m\u001b[0mReferenceField\u001b[0m\u001b[0;34m(\u001b[0m\u001b[0mSchool\u001b[0m\u001b[0;34m)\u001b[0m\u001b[0;34m)\u001b[0m\u001b[0;34m\u001b[0m\u001b[0;34m\u001b[0m\u001b[0m\n\u001b[1;32m     20\u001b[0m \u001b[0;34m\u001b[0m\u001b[0m\n",
      "\u001b[0;31mNameError\u001b[0m: name 'Studio' is not defined"
     ]
    }
   ],
   "source": [
    "class _AUTHOR(Document):\n",
    "    email       = StringField()\n",
    "    displayName = StringField()\n",
    "    editList    = ListField(EmbeddedDocumentField(_EDIT))\n",
    "\n",
    "    "
   ]
  },
  {
   "cell_type": "code",
   "execution_count": null,
   "metadata": {},
   "outputs": [],
   "source": [
    "    \n",
    "class Person(Document):\n",
    "    _entryAuthor = ReferenceField(_AUTHOR)\n",
    "    _dateCreated = StringField()\n",
    "    firstName    = StringField()\n",
    "    lastName     = StringField()\n",
    "    image        = StringField()\n",
    "    workedIn     = ListField(ReferenceField(Studio))\n",
    "    studiedIn    = ListField(ReferenceField(School))\n",
    "\n",
    "class _EDIT(EmbeddedDocument):\n",
    "    tags         = ListField(StringField(max_lenght=30))\n",
    "    _entryAuthor = ReferenceField(_AUTHOR)\n",
    "    editQuery    = StringField()\n",
    "    _date        = datetime.datetime.utcnow()\n"
   ]
  }
 ],
 "metadata": {
  "kernelspec": {
   "display_name": "Python 3",
   "language": "python",
   "name": "python3"
  },
  "language_info": {
   "codemirror_mode": {
    "name": "ipython",
    "version": 3
   },
   "file_extension": ".py",
   "mimetype": "text/x-python",
   "name": "python",
   "nbconvert_exporter": "python",
   "pygments_lexer": "ipython3",
   "version": "3.7.3"
  }
 },
 "nbformat": 4,
 "nbformat_minor": 2
}
